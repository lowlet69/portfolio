{
 "cells": [
  {
   "cell_type": "markdown",
   "id": "f43249ec",
   "metadata": {
    "toc": true
   },
   "source": [
    "<h1>Table of Contents<span class=\"tocSkip\"></span></h1>\n",
    "<div class=\"toc\"><ul class=\"toc-item\"><li><span><a href=\"#Введение\" data-toc-modified-id=\"Введение-1\"><span class=\"toc-item-num\">1&nbsp;&nbsp;</span>Введение</a></span><ul class=\"toc-item\"><li><span><a href=\"#Доступ-к-базе-данных\" data-toc-modified-id=\"Доступ-к-базе-данных-1.1\"><span class=\"toc-item-num\">1.1&nbsp;&nbsp;</span>Доступ к базе данных</a></span></li><li><span><a href=\"#Цели-исследования\" data-toc-modified-id=\"Цели-исследования-1.2\"><span class=\"toc-item-num\">1.2&nbsp;&nbsp;</span>Цели исследования</a></span></li><li><span><a href=\"#Первые-строки-таблиц\" data-toc-modified-id=\"Первые-строки-таблиц-1.3\"><span class=\"toc-item-num\">1.3&nbsp;&nbsp;</span>Первые строки таблиц</a></span></li></ul></li><li><span><a href=\"#Запросы-и-выводы\" data-toc-modified-id=\"Запросы-и-выводы-2\"><span class=\"toc-item-num\">2&nbsp;&nbsp;</span>Запросы и выводы</a></span><ul class=\"toc-item\"><li><span><a href=\"#Посчитайте,-сколько-книг-вышло-после-1-января-2000-года\" data-toc-modified-id=\"Посчитайте,-сколько-книг-вышло-после-1-января-2000-года-2.1\"><span class=\"toc-item-num\">2.1&nbsp;&nbsp;</span>Посчитайте, сколько книг вышло после 1 января 2000 года</a></span></li><li><span><a href=\"#Для-каждой-книги-посчитайте-количество-обзоров-и-среднюю-оценку\" data-toc-modified-id=\"Для-каждой-книги-посчитайте-количество-обзоров-и-среднюю-оценку-2.2\"><span class=\"toc-item-num\">2.2&nbsp;&nbsp;</span>Для каждой книги посчитайте количество обзоров и среднюю оценку</a></span></li><li><span><a href=\"#Определите-издательство,-которое-выпустило-наибольшее-число-книг-толще-50-страниц-—-так-вы-исключите-из-анализа-брошюры\" data-toc-modified-id=\"Определите-издательство,-которое-выпустило-наибольшее-число-книг-толще-50-страниц-—-так-вы-исключите-из-анализа-брошюры-2.3\"><span class=\"toc-item-num\">2.3&nbsp;&nbsp;</span>Определите издательство, которое выпустило наибольшее число книг толще 50 страниц — так вы исключите из анализа брошюры</a></span></li><li><span><a href=\"#Определите-автора-с-самой-высокой-средней-оценкой-книг-—-учитывайте-только-книги-с-50-и-более-оценками\" data-toc-modified-id=\"Определите-автора-с-самой-высокой-средней-оценкой-книг-—-учитывайте-только-книги-с-50-и-более-оценками-2.4\"><span class=\"toc-item-num\">2.4&nbsp;&nbsp;</span>Определите автора с самой высокой средней оценкой книг — учитывайте только книги с 50 и более оценками</a></span></li><li><span><a href=\"#Посчитайте-среднее-количество-обзоров-от-пользователей,-которые-поставили-больше-48-оценок\" data-toc-modified-id=\"Посчитайте-среднее-количество-обзоров-от-пользователей,-которые-поставили-больше-48-оценок-2.5\"><span class=\"toc-item-num\">2.5&nbsp;&nbsp;</span>Посчитайте среднее количество обзоров от пользователей, которые поставили больше 48 оценок</a></span></li><li><span><a href=\"#Общий-вывод\" data-toc-modified-id=\"Общий-вывод-2.6\"><span class=\"toc-item-num\">2.6&nbsp;&nbsp;</span>Общий вывод</a></span></li></ul></li></ul></div>"
   ]
  },
  {
   "cell_type": "markdown",
   "id": "57bb9063",
   "metadata": {},
   "source": [
    "## Введение"
   ]
  },
  {
   "cell_type": "markdown",
   "id": "0ec0ed15",
   "metadata": {},
   "source": [
    "### Доступ к базе данных"
   ]
  },
  {
   "cell_type": "code",
   "execution_count": 1,
   "id": "7bec4be4",
   "metadata": {},
   "outputs": [],
   "source": [
    "# импортируем библиотеки\n",
    "import pandas as pd\n",
    "from sqlalchemy import text, create_engine"
   ]
  },
  {
   "cell_type": "code",
   "execution_count": 2,
   "id": "cee76659",
   "metadata": {},
   "outputs": [],
   "source": [
    "# устанавливаем параметры\n",
    "db_config = {'user': 'praktikum_student', # имя пользователя\n",
    "             'pwd': 'Sdf4$2;d-d30pp', # пароль\n",
    "             'host': 'rc1b-wcoijxj3yxfsf3fs.mdb.yandexcloud.net',\n",
    "             'port': 6432, # порт подключения\n",
    "             'db': 'data-analyst-final-project-db'} # название базы данных\n",
    "connection_string = 'postgresql://{user}:{pwd}@{host}:{port}/{db}'.format(**db_config)\n",
    "\n",
    "# сохраняем коннектор\n",
    "engine = create_engine(connection_string, connect_args={'sslmode':'require'})"
   ]
  },
  {
   "cell_type": "code",
   "execution_count": 3,
   "id": "bce9a1a7",
   "metadata": {},
   "outputs": [
    {
     "data": {
      "text/html": [
       "<div>\n",
       "<style scoped>\n",
       "    .dataframe tbody tr th:only-of-type {\n",
       "        vertical-align: middle;\n",
       "    }\n",
       "\n",
       "    .dataframe tbody tr th {\n",
       "        vertical-align: top;\n",
       "    }\n",
       "\n",
       "    .dataframe thead th {\n",
       "        text-align: right;\n",
       "    }\n",
       "</style>\n",
       "<table border=\"1\" class=\"dataframe\">\n",
       "  <thead>\n",
       "    <tr style=\"text-align: right;\">\n",
       "      <th></th>\n",
       "      <th>book_id</th>\n",
       "      <th>author_id</th>\n",
       "      <th>title</th>\n",
       "      <th>num_pages</th>\n",
       "      <th>publication_date</th>\n",
       "      <th>publisher_id</th>\n",
       "    </tr>\n",
       "  </thead>\n",
       "  <tbody>\n",
       "    <tr>\n",
       "      <th>0</th>\n",
       "      <td>1</td>\n",
       "      <td>546</td>\n",
       "      <td>'Salem's Lot</td>\n",
       "      <td>594</td>\n",
       "      <td>2005-11-01</td>\n",
       "      <td>93</td>\n",
       "    </tr>\n",
       "    <tr>\n",
       "      <th>1</th>\n",
       "      <td>2</td>\n",
       "      <td>465</td>\n",
       "      <td>1 000 Places to See Before You Die</td>\n",
       "      <td>992</td>\n",
       "      <td>2003-05-22</td>\n",
       "      <td>336</td>\n",
       "    </tr>\n",
       "    <tr>\n",
       "      <th>2</th>\n",
       "      <td>3</td>\n",
       "      <td>407</td>\n",
       "      <td>13 Little Blue Envelopes (Little Blue Envelope...</td>\n",
       "      <td>322</td>\n",
       "      <td>2010-12-21</td>\n",
       "      <td>135</td>\n",
       "    </tr>\n",
       "    <tr>\n",
       "      <th>3</th>\n",
       "      <td>4</td>\n",
       "      <td>82</td>\n",
       "      <td>1491: New Revelations of the Americas Before C...</td>\n",
       "      <td>541</td>\n",
       "      <td>2006-10-10</td>\n",
       "      <td>309</td>\n",
       "    </tr>\n",
       "    <tr>\n",
       "      <th>4</th>\n",
       "      <td>5</td>\n",
       "      <td>125</td>\n",
       "      <td>1776</td>\n",
       "      <td>386</td>\n",
       "      <td>2006-07-04</td>\n",
       "      <td>268</td>\n",
       "    </tr>\n",
       "    <tr>\n",
       "      <th>...</th>\n",
       "      <td>...</td>\n",
       "      <td>...</td>\n",
       "      <td>...</td>\n",
       "      <td>...</td>\n",
       "      <td>...</td>\n",
       "      <td>...</td>\n",
       "    </tr>\n",
       "    <tr>\n",
       "      <th>995</th>\n",
       "      <td>996</td>\n",
       "      <td>571</td>\n",
       "      <td>Wyrd Sisters (Discworld  #6; Witches #2)</td>\n",
       "      <td>265</td>\n",
       "      <td>2001-02-06</td>\n",
       "      <td>147</td>\n",
       "    </tr>\n",
       "    <tr>\n",
       "      <th>996</th>\n",
       "      <td>997</td>\n",
       "      <td>454</td>\n",
       "      <td>Xenocide (Ender's Saga  #3)</td>\n",
       "      <td>592</td>\n",
       "      <td>1996-07-15</td>\n",
       "      <td>297</td>\n",
       "    </tr>\n",
       "    <tr>\n",
       "      <th>997</th>\n",
       "      <td>998</td>\n",
       "      <td>201</td>\n",
       "      <td>Year of Wonders</td>\n",
       "      <td>358</td>\n",
       "      <td>2002-04-30</td>\n",
       "      <td>212</td>\n",
       "    </tr>\n",
       "    <tr>\n",
       "      <th>998</th>\n",
       "      <td>999</td>\n",
       "      <td>94</td>\n",
       "      <td>You Suck (A Love Story  #2)</td>\n",
       "      <td>328</td>\n",
       "      <td>2007-01-16</td>\n",
       "      <td>331</td>\n",
       "    </tr>\n",
       "    <tr>\n",
       "      <th>999</th>\n",
       "      <td>1000</td>\n",
       "      <td>509</td>\n",
       "      <td>Zen and the Art of Motorcycle Maintenance: An ...</td>\n",
       "      <td>540</td>\n",
       "      <td>2006-04-25</td>\n",
       "      <td>143</td>\n",
       "    </tr>\n",
       "  </tbody>\n",
       "</table>\n",
       "<p>1000 rows × 6 columns</p>\n",
       "</div>"
      ],
      "text/plain": [
       "     book_id  author_id                                              title  \\\n",
       "0          1        546                                       'Salem's Lot   \n",
       "1          2        465                 1 000 Places to See Before You Die   \n",
       "2          3        407  13 Little Blue Envelopes (Little Blue Envelope...   \n",
       "3          4         82  1491: New Revelations of the Americas Before C...   \n",
       "4          5        125                                               1776   \n",
       "..       ...        ...                                                ...   \n",
       "995      996        571           Wyrd Sisters (Discworld  #6; Witches #2)   \n",
       "996      997        454                        Xenocide (Ender's Saga  #3)   \n",
       "997      998        201                                    Year of Wonders   \n",
       "998      999         94                        You Suck (A Love Story  #2)   \n",
       "999     1000        509  Zen and the Art of Motorcycle Maintenance: An ...   \n",
       "\n",
       "     num_pages publication_date  publisher_id  \n",
       "0          594       2005-11-01            93  \n",
       "1          992       2003-05-22           336  \n",
       "2          322       2010-12-21           135  \n",
       "3          541       2006-10-10           309  \n",
       "4          386       2006-07-04           268  \n",
       "..         ...              ...           ...  \n",
       "995        265       2001-02-06           147  \n",
       "996        592       1996-07-15           297  \n",
       "997        358       2002-04-30           212  \n",
       "998        328       2007-01-16           331  \n",
       "999        540       2006-04-25           143  \n",
       "\n",
       "[1000 rows x 6 columns]"
      ]
     },
     "execution_count": 3,
     "metadata": {},
     "output_type": "execute_result"
    }
   ],
   "source": [
    "# чтобы выполнить SQL-запрос, используем Pandas\n",
    "query = '''SELECT * FROM books'''\n",
    "\n",
    "con=engine.connect()\n",
    "\n",
    "pd.io.sql.read_sql(sql=text(query), con = con)"
   ]
  },
  {
   "cell_type": "markdown",
   "id": "bbc9ee63",
   "metadata": {},
   "source": [
    "### Цели исследования"
   ]
  },
  {
   "cell_type": "markdown",
   "id": "a9a02e9c",
   "metadata": {},
   "source": [
    "**Цель исследования:** Проанализировать базу данных, чтобы сформулировать ценностное предложение для нового продукта"
   ]
  },
  {
   "cell_type": "markdown",
   "id": "33727019",
   "metadata": {},
   "source": [
    "### Первые строки таблиц"
   ]
  },
  {
   "cell_type": "code",
   "execution_count": 4,
   "id": "1c7b8c9b",
   "metadata": {},
   "outputs": [
    {
     "data": {
      "text/html": [
       "<div>\n",
       "<style scoped>\n",
       "    .dataframe tbody tr th:only-of-type {\n",
       "        vertical-align: middle;\n",
       "    }\n",
       "\n",
       "    .dataframe tbody tr th {\n",
       "        vertical-align: top;\n",
       "    }\n",
       "\n",
       "    .dataframe thead th {\n",
       "        text-align: right;\n",
       "    }\n",
       "</style>\n",
       "<table border=\"1\" class=\"dataframe\">\n",
       "  <thead>\n",
       "    <tr style=\"text-align: right;\">\n",
       "      <th></th>\n",
       "      <th>book_id</th>\n",
       "      <th>author_id</th>\n",
       "      <th>title</th>\n",
       "      <th>num_pages</th>\n",
       "      <th>publication_date</th>\n",
       "      <th>publisher_id</th>\n",
       "    </tr>\n",
       "  </thead>\n",
       "  <tbody>\n",
       "    <tr>\n",
       "      <th>0</th>\n",
       "      <td>1</td>\n",
       "      <td>546</td>\n",
       "      <td>'Salem's Lot</td>\n",
       "      <td>594</td>\n",
       "      <td>2005-11-01</td>\n",
       "      <td>93</td>\n",
       "    </tr>\n",
       "    <tr>\n",
       "      <th>1</th>\n",
       "      <td>2</td>\n",
       "      <td>465</td>\n",
       "      <td>1 000 Places to See Before You Die</td>\n",
       "      <td>992</td>\n",
       "      <td>2003-05-22</td>\n",
       "      <td>336</td>\n",
       "    </tr>\n",
       "    <tr>\n",
       "      <th>2</th>\n",
       "      <td>3</td>\n",
       "      <td>407</td>\n",
       "      <td>13 Little Blue Envelopes (Little Blue Envelope...</td>\n",
       "      <td>322</td>\n",
       "      <td>2010-12-21</td>\n",
       "      <td>135</td>\n",
       "    </tr>\n",
       "    <tr>\n",
       "      <th>3</th>\n",
       "      <td>4</td>\n",
       "      <td>82</td>\n",
       "      <td>1491: New Revelations of the Americas Before C...</td>\n",
       "      <td>541</td>\n",
       "      <td>2006-10-10</td>\n",
       "      <td>309</td>\n",
       "    </tr>\n",
       "    <tr>\n",
       "      <th>4</th>\n",
       "      <td>5</td>\n",
       "      <td>125</td>\n",
       "      <td>1776</td>\n",
       "      <td>386</td>\n",
       "      <td>2006-07-04</td>\n",
       "      <td>268</td>\n",
       "    </tr>\n",
       "  </tbody>\n",
       "</table>\n",
       "</div>"
      ],
      "text/plain": [
       "   book_id  author_id                                              title  \\\n",
       "0        1        546                                       'Salem's Lot   \n",
       "1        2        465                 1 000 Places to See Before You Die   \n",
       "2        3        407  13 Little Blue Envelopes (Little Blue Envelope...   \n",
       "3        4         82  1491: New Revelations of the Americas Before C...   \n",
       "4        5        125                                               1776   \n",
       "\n",
       "   num_pages publication_date  publisher_id  \n",
       "0        594       2005-11-01            93  \n",
       "1        992       2003-05-22           336  \n",
       "2        322       2010-12-21           135  \n",
       "3        541       2006-10-10           309  \n",
       "4        386       2006-07-04           268  "
      ]
     },
     "execution_count": 4,
     "metadata": {},
     "output_type": "execute_result"
    }
   ],
   "source": [
    "query = '''SELECT * FROM books LIMIT 5'''\n",
    "\n",
    "con=engine.connect()\n",
    "\n",
    "pd.io.sql.read_sql(sql=text(query), con = con)"
   ]
  },
  {
   "cell_type": "code",
   "execution_count": 5,
   "id": "e0c570f6",
   "metadata": {},
   "outputs": [
    {
     "data": {
      "text/html": [
       "<div>\n",
       "<style scoped>\n",
       "    .dataframe tbody tr th:only-of-type {\n",
       "        vertical-align: middle;\n",
       "    }\n",
       "\n",
       "    .dataframe tbody tr th {\n",
       "        vertical-align: top;\n",
       "    }\n",
       "\n",
       "    .dataframe thead th {\n",
       "        text-align: right;\n",
       "    }\n",
       "</style>\n",
       "<table border=\"1\" class=\"dataframe\">\n",
       "  <thead>\n",
       "    <tr style=\"text-align: right;\">\n",
       "      <th></th>\n",
       "      <th>author_id</th>\n",
       "      <th>author</th>\n",
       "    </tr>\n",
       "  </thead>\n",
       "  <tbody>\n",
       "    <tr>\n",
       "      <th>0</th>\n",
       "      <td>1</td>\n",
       "      <td>A.S. Byatt</td>\n",
       "    </tr>\n",
       "    <tr>\n",
       "      <th>1</th>\n",
       "      <td>2</td>\n",
       "      <td>Aesop/Laura Harris/Laura Gibbs</td>\n",
       "    </tr>\n",
       "    <tr>\n",
       "      <th>2</th>\n",
       "      <td>3</td>\n",
       "      <td>Agatha Christie</td>\n",
       "    </tr>\n",
       "    <tr>\n",
       "      <th>3</th>\n",
       "      <td>4</td>\n",
       "      <td>Alan Brennert</td>\n",
       "    </tr>\n",
       "    <tr>\n",
       "      <th>4</th>\n",
       "      <td>5</td>\n",
       "      <td>Alan Moore/David   Lloyd</td>\n",
       "    </tr>\n",
       "  </tbody>\n",
       "</table>\n",
       "</div>"
      ],
      "text/plain": [
       "   author_id                          author\n",
       "0          1                      A.S. Byatt\n",
       "1          2  Aesop/Laura Harris/Laura Gibbs\n",
       "2          3                 Agatha Christie\n",
       "3          4                   Alan Brennert\n",
       "4          5        Alan Moore/David   Lloyd"
      ]
     },
     "execution_count": 5,
     "metadata": {},
     "output_type": "execute_result"
    }
   ],
   "source": [
    "query = '''SELECT * FROM authors LIMIT 5'''\n",
    "\n",
    "con=engine.connect()\n",
    "\n",
    "pd.io.sql.read_sql(sql=text(query), con = con)"
   ]
  },
  {
   "cell_type": "code",
   "execution_count": 6,
   "id": "738d7173",
   "metadata": {},
   "outputs": [
    {
     "data": {
      "text/html": [
       "<div>\n",
       "<style scoped>\n",
       "    .dataframe tbody tr th:only-of-type {\n",
       "        vertical-align: middle;\n",
       "    }\n",
       "\n",
       "    .dataframe tbody tr th {\n",
       "        vertical-align: top;\n",
       "    }\n",
       "\n",
       "    .dataframe thead th {\n",
       "        text-align: right;\n",
       "    }\n",
       "</style>\n",
       "<table border=\"1\" class=\"dataframe\">\n",
       "  <thead>\n",
       "    <tr style=\"text-align: right;\">\n",
       "      <th></th>\n",
       "      <th>rating_id</th>\n",
       "      <th>book_id</th>\n",
       "      <th>username</th>\n",
       "      <th>rating</th>\n",
       "    </tr>\n",
       "  </thead>\n",
       "  <tbody>\n",
       "    <tr>\n",
       "      <th>0</th>\n",
       "      <td>1</td>\n",
       "      <td>1</td>\n",
       "      <td>ryanfranco</td>\n",
       "      <td>4</td>\n",
       "    </tr>\n",
       "    <tr>\n",
       "      <th>1</th>\n",
       "      <td>2</td>\n",
       "      <td>1</td>\n",
       "      <td>grantpatricia</td>\n",
       "      <td>2</td>\n",
       "    </tr>\n",
       "    <tr>\n",
       "      <th>2</th>\n",
       "      <td>3</td>\n",
       "      <td>1</td>\n",
       "      <td>brandtandrea</td>\n",
       "      <td>5</td>\n",
       "    </tr>\n",
       "    <tr>\n",
       "      <th>3</th>\n",
       "      <td>4</td>\n",
       "      <td>2</td>\n",
       "      <td>lorichen</td>\n",
       "      <td>3</td>\n",
       "    </tr>\n",
       "    <tr>\n",
       "      <th>4</th>\n",
       "      <td>5</td>\n",
       "      <td>2</td>\n",
       "      <td>mariokeller</td>\n",
       "      <td>2</td>\n",
       "    </tr>\n",
       "  </tbody>\n",
       "</table>\n",
       "</div>"
      ],
      "text/plain": [
       "   rating_id  book_id       username  rating\n",
       "0          1        1     ryanfranco       4\n",
       "1          2        1  grantpatricia       2\n",
       "2          3        1   brandtandrea       5\n",
       "3          4        2       lorichen       3\n",
       "4          5        2    mariokeller       2"
      ]
     },
     "execution_count": 6,
     "metadata": {},
     "output_type": "execute_result"
    }
   ],
   "source": [
    "query = '''SELECT * FROM ratings LIMIT 5'''\n",
    "\n",
    "con=engine.connect()\n",
    "\n",
    "pd.io.sql.read_sql(sql=text(query), con = con)"
   ]
  },
  {
   "cell_type": "code",
   "execution_count": 7,
   "id": "75cbe05c",
   "metadata": {},
   "outputs": [
    {
     "data": {
      "text/html": [
       "<div>\n",
       "<style scoped>\n",
       "    .dataframe tbody tr th:only-of-type {\n",
       "        vertical-align: middle;\n",
       "    }\n",
       "\n",
       "    .dataframe tbody tr th {\n",
       "        vertical-align: top;\n",
       "    }\n",
       "\n",
       "    .dataframe thead th {\n",
       "        text-align: right;\n",
       "    }\n",
       "</style>\n",
       "<table border=\"1\" class=\"dataframe\">\n",
       "  <thead>\n",
       "    <tr style=\"text-align: right;\">\n",
       "      <th></th>\n",
       "      <th>review_id</th>\n",
       "      <th>book_id</th>\n",
       "      <th>username</th>\n",
       "      <th>text</th>\n",
       "    </tr>\n",
       "  </thead>\n",
       "  <tbody>\n",
       "    <tr>\n",
       "      <th>0</th>\n",
       "      <td>1</td>\n",
       "      <td>1</td>\n",
       "      <td>brandtandrea</td>\n",
       "      <td>Mention society tell send professor analysis. ...</td>\n",
       "    </tr>\n",
       "    <tr>\n",
       "      <th>1</th>\n",
       "      <td>2</td>\n",
       "      <td>1</td>\n",
       "      <td>ryanfranco</td>\n",
       "      <td>Foot glass pretty audience hit themselves. Amo...</td>\n",
       "    </tr>\n",
       "    <tr>\n",
       "      <th>2</th>\n",
       "      <td>3</td>\n",
       "      <td>2</td>\n",
       "      <td>lorichen</td>\n",
       "      <td>Listen treat keep worry. Miss husband tax but ...</td>\n",
       "    </tr>\n",
       "    <tr>\n",
       "      <th>3</th>\n",
       "      <td>4</td>\n",
       "      <td>3</td>\n",
       "      <td>johnsonamanda</td>\n",
       "      <td>Finally month interesting blue could nature cu...</td>\n",
       "    </tr>\n",
       "    <tr>\n",
       "      <th>4</th>\n",
       "      <td>5</td>\n",
       "      <td>3</td>\n",
       "      <td>scotttamara</td>\n",
       "      <td>Nation purpose heavy give wait song will. List...</td>\n",
       "    </tr>\n",
       "  </tbody>\n",
       "</table>\n",
       "</div>"
      ],
      "text/plain": [
       "   review_id  book_id       username  \\\n",
       "0          1        1   brandtandrea   \n",
       "1          2        1     ryanfranco   \n",
       "2          3        2       lorichen   \n",
       "3          4        3  johnsonamanda   \n",
       "4          5        3    scotttamara   \n",
       "\n",
       "                                                text  \n",
       "0  Mention society tell send professor analysis. ...  \n",
       "1  Foot glass pretty audience hit themselves. Amo...  \n",
       "2  Listen treat keep worry. Miss husband tax but ...  \n",
       "3  Finally month interesting blue could nature cu...  \n",
       "4  Nation purpose heavy give wait song will. List...  "
      ]
     },
     "execution_count": 7,
     "metadata": {},
     "output_type": "execute_result"
    }
   ],
   "source": [
    "query = '''SELECT * FROM reviews LIMIT 5'''\n",
    "\n",
    "con=engine.connect()\n",
    "\n",
    "pd.io.sql.read_sql(sql=text(query), con = con)"
   ]
  },
  {
   "cell_type": "code",
   "execution_count": 8,
   "id": "90cb6596",
   "metadata": {},
   "outputs": [
    {
     "data": {
      "text/html": [
       "<div>\n",
       "<style scoped>\n",
       "    .dataframe tbody tr th:only-of-type {\n",
       "        vertical-align: middle;\n",
       "    }\n",
       "\n",
       "    .dataframe tbody tr th {\n",
       "        vertical-align: top;\n",
       "    }\n",
       "\n",
       "    .dataframe thead th {\n",
       "        text-align: right;\n",
       "    }\n",
       "</style>\n",
       "<table border=\"1\" class=\"dataframe\">\n",
       "  <thead>\n",
       "    <tr style=\"text-align: right;\">\n",
       "      <th></th>\n",
       "      <th>publisher_id</th>\n",
       "      <th>publisher</th>\n",
       "    </tr>\n",
       "  </thead>\n",
       "  <tbody>\n",
       "    <tr>\n",
       "      <th>0</th>\n",
       "      <td>1</td>\n",
       "      <td>Ace</td>\n",
       "    </tr>\n",
       "    <tr>\n",
       "      <th>1</th>\n",
       "      <td>2</td>\n",
       "      <td>Ace Book</td>\n",
       "    </tr>\n",
       "    <tr>\n",
       "      <th>2</th>\n",
       "      <td>3</td>\n",
       "      <td>Ace Books</td>\n",
       "    </tr>\n",
       "    <tr>\n",
       "      <th>3</th>\n",
       "      <td>4</td>\n",
       "      <td>Ace Hardcover</td>\n",
       "    </tr>\n",
       "    <tr>\n",
       "      <th>4</th>\n",
       "      <td>5</td>\n",
       "      <td>Addison Wesley Publishing Company</td>\n",
       "    </tr>\n",
       "  </tbody>\n",
       "</table>\n",
       "</div>"
      ],
      "text/plain": [
       "   publisher_id                          publisher\n",
       "0             1                                Ace\n",
       "1             2                           Ace Book\n",
       "2             3                          Ace Books\n",
       "3             4                      Ace Hardcover\n",
       "4             5  Addison Wesley Publishing Company"
      ]
     },
     "execution_count": 8,
     "metadata": {},
     "output_type": "execute_result"
    }
   ],
   "source": [
    "query = '''SELECT * FROM publishers LIMIT 5'''\n",
    "\n",
    "con=engine.connect()\n",
    "\n",
    "pd.io.sql.read_sql(sql=text(query), con = con)"
   ]
  },
  {
   "cell_type": "markdown",
   "id": "cec965dc",
   "metadata": {},
   "source": [
    "## Запросы и выводы"
   ]
  },
  {
   "cell_type": "markdown",
   "id": "56789d17",
   "metadata": {},
   "source": [
    "- Посчитайте, сколько книг вышло после 1 января 2000 года;\n",
    "- Для каждой книги посчитайте количество обзоров и среднюю оценку;\n",
    "- Определите издательство, которое выпустило наибольшее число книг толще 50 страниц — так вы исключите из анализа брошюры;\n",
    "- Определите автора с самой высокой средней оценкой книг — учитывайте только книги с 50 и более оценками;\n",
    "- Посчитайте среднее количество обзоров от пользователей, которые поставили больше 48 оценок."
   ]
  },
  {
   "cell_type": "markdown",
   "id": "b8cdee06",
   "metadata": {},
   "source": [
    "### Посчитайте, сколько книг вышло после 1 января 2000 года"
   ]
  },
  {
   "cell_type": "code",
   "execution_count": 9,
   "id": "c656e2ba",
   "metadata": {},
   "outputs": [
    {
     "data": {
      "text/html": [
       "<div>\n",
       "<style scoped>\n",
       "    .dataframe tbody tr th:only-of-type {\n",
       "        vertical-align: middle;\n",
       "    }\n",
       "\n",
       "    .dataframe tbody tr th {\n",
       "        vertical-align: top;\n",
       "    }\n",
       "\n",
       "    .dataframe thead th {\n",
       "        text-align: right;\n",
       "    }\n",
       "</style>\n",
       "<table border=\"1\" class=\"dataframe\">\n",
       "  <thead>\n",
       "    <tr style=\"text-align: right;\">\n",
       "      <th></th>\n",
       "      <th>count</th>\n",
       "    </tr>\n",
       "  </thead>\n",
       "  <tbody>\n",
       "    <tr>\n",
       "      <th>0</th>\n",
       "      <td>819</td>\n",
       "    </tr>\n",
       "  </tbody>\n",
       "</table>\n",
       "</div>"
      ],
      "text/plain": [
       "   count\n",
       "0    819"
      ]
     },
     "execution_count": 9,
     "metadata": {},
     "output_type": "execute_result"
    }
   ],
   "source": [
    "query = '''\n",
    "    SELECT COUNT(book_id)\n",
    "    FROM books\n",
    "    WHERE publication_date > '2000-01-01'\n",
    "    '''\n",
    "\n",
    "con=engine.connect()\n",
    "\n",
    "pd.io.sql.read_sql(sql=text(query), con = con)"
   ]
  },
  {
   "cell_type": "markdown",
   "id": "7bae6142",
   "metadata": {},
   "source": [
    "**Вывод:** После 1 января 2000 года вышла 819 книга"
   ]
  },
  {
   "cell_type": "markdown",
   "id": "3e431e93",
   "metadata": {},
   "source": [
    "### Для каждой книги посчитайте количество обзоров и среднюю оценку"
   ]
  },
  {
   "cell_type": "code",
   "execution_count": 10,
   "id": "890ffd31",
   "metadata": {},
   "outputs": [
    {
     "data": {
      "text/html": [
       "<div>\n",
       "<style scoped>\n",
       "    .dataframe tbody tr th:only-of-type {\n",
       "        vertical-align: middle;\n",
       "    }\n",
       "\n",
       "    .dataframe tbody tr th {\n",
       "        vertical-align: top;\n",
       "    }\n",
       "\n",
       "    .dataframe thead th {\n",
       "        text-align: right;\n",
       "    }\n",
       "</style>\n",
       "<table border=\"1\" class=\"dataframe\">\n",
       "  <thead>\n",
       "    <tr style=\"text-align: right;\">\n",
       "      <th></th>\n",
       "      <th>title</th>\n",
       "      <th>count</th>\n",
       "      <th>avg</th>\n",
       "    </tr>\n",
       "  </thead>\n",
       "  <tbody>\n",
       "    <tr>\n",
       "      <th>0</th>\n",
       "      <td>Twilight (Twilight  #1)</td>\n",
       "      <td>1120</td>\n",
       "      <td>3.662500</td>\n",
       "    </tr>\n",
       "    <tr>\n",
       "      <th>1</th>\n",
       "      <td>The Hobbit  or There and Back Again</td>\n",
       "      <td>528</td>\n",
       "      <td>4.125000</td>\n",
       "    </tr>\n",
       "    <tr>\n",
       "      <th>2</th>\n",
       "      <td>The Catcher in the Rye</td>\n",
       "      <td>516</td>\n",
       "      <td>3.825581</td>\n",
       "    </tr>\n",
       "    <tr>\n",
       "      <th>3</th>\n",
       "      <td>Harry Potter and the Prisoner of Azkaban (Harr...</td>\n",
       "      <td>492</td>\n",
       "      <td>4.414634</td>\n",
       "    </tr>\n",
       "    <tr>\n",
       "      <th>4</th>\n",
       "      <td>Harry Potter and the Chamber of Secrets (Harry...</td>\n",
       "      <td>480</td>\n",
       "      <td>4.287500</td>\n",
       "    </tr>\n",
       "    <tr>\n",
       "      <th>...</th>\n",
       "      <td>...</td>\n",
       "      <td>...</td>\n",
       "      <td>...</td>\n",
       "    </tr>\n",
       "    <tr>\n",
       "      <th>994</th>\n",
       "      <td>Disney's Beauty and the Beast (A Little Golden...</td>\n",
       "      <td>0</td>\n",
       "      <td>4.000000</td>\n",
       "    </tr>\n",
       "    <tr>\n",
       "      <th>995</th>\n",
       "      <td>Leonardo's Notebooks</td>\n",
       "      <td>0</td>\n",
       "      <td>4.000000</td>\n",
       "    </tr>\n",
       "    <tr>\n",
       "      <th>996</th>\n",
       "      <td>Essential Tales and Poems</td>\n",
       "      <td>0</td>\n",
       "      <td>4.000000</td>\n",
       "    </tr>\n",
       "    <tr>\n",
       "      <th>997</th>\n",
       "      <td>Anne Rice's The Vampire Lestat: A Graphic Novel</td>\n",
       "      <td>0</td>\n",
       "      <td>3.666667</td>\n",
       "    </tr>\n",
       "    <tr>\n",
       "      <th>998</th>\n",
       "      <td>The Natural Way to Draw</td>\n",
       "      <td>0</td>\n",
       "      <td>3.000000</td>\n",
       "    </tr>\n",
       "  </tbody>\n",
       "</table>\n",
       "<p>999 rows × 3 columns</p>\n",
       "</div>"
      ],
      "text/plain": [
       "                                                 title  count       avg\n",
       "0                              Twilight (Twilight  #1)   1120  3.662500\n",
       "1                  The Hobbit  or There and Back Again    528  4.125000\n",
       "2                               The Catcher in the Rye    516  3.825581\n",
       "3    Harry Potter and the Prisoner of Azkaban (Harr...    492  4.414634\n",
       "4    Harry Potter and the Chamber of Secrets (Harry...    480  4.287500\n",
       "..                                                 ...    ...       ...\n",
       "994  Disney's Beauty and the Beast (A Little Golden...      0  4.000000\n",
       "995                               Leonardo's Notebooks      0  4.000000\n",
       "996                          Essential Tales and Poems      0  4.000000\n",
       "997    Anne Rice's The Vampire Lestat: A Graphic Novel      0  3.666667\n",
       "998                            The Natural Way to Draw      0  3.000000\n",
       "\n",
       "[999 rows x 3 columns]"
      ]
     },
     "execution_count": 10,
     "metadata": {},
     "output_type": "execute_result"
    }
   ],
   "source": [
    "query = '''\n",
    "    SELECT title, COUNT(review_id), AVG(rating)\n",
    "    FROM books as b\n",
    "    LEFT JOIN reviews as re ON b.book_id = re.book_id\n",
    "    LEFT JOIN ratings as ra ON b.book_id = ra.book_id\n",
    "    GROUP BY 1\n",
    "    ORDER BY 2 DESC, 3 DESC\n",
    "    '''\n",
    "\n",
    "con=engine.connect()\n",
    "\n",
    "pd.io.sql.read_sql(sql=text(query), con = con)"
   ]
  },
  {
   "cell_type": "markdown",
   "id": "809c3bf4",
   "metadata": {},
   "source": [
    "**Вывод:** Посчитали количество обзоров и среднюю оценку. Эти данные пригодятся нашим коллегам при ценообразовании."
   ]
  },
  {
   "cell_type": "markdown",
   "id": "b6482be5",
   "metadata": {},
   "source": [
    "### Определите издательство, которое выпустило наибольшее число книг толще 50 страниц — так вы исключите из анализа брошюры"
   ]
  },
  {
   "cell_type": "code",
   "execution_count": 11,
   "id": "2c9cda4b",
   "metadata": {},
   "outputs": [
    {
     "data": {
      "text/html": [
       "<div>\n",
       "<style scoped>\n",
       "    .dataframe tbody tr th:only-of-type {\n",
       "        vertical-align: middle;\n",
       "    }\n",
       "\n",
       "    .dataframe tbody tr th {\n",
       "        vertical-align: top;\n",
       "    }\n",
       "\n",
       "    .dataframe thead th {\n",
       "        text-align: right;\n",
       "    }\n",
       "</style>\n",
       "<table border=\"1\" class=\"dataframe\">\n",
       "  <thead>\n",
       "    <tr style=\"text-align: right;\">\n",
       "      <th></th>\n",
       "      <th>Издательство</th>\n",
       "      <th>Количество_книг</th>\n",
       "    </tr>\n",
       "  </thead>\n",
       "  <tbody>\n",
       "    <tr>\n",
       "      <th>0</th>\n",
       "      <td>Penguin Books</td>\n",
       "      <td>42</td>\n",
       "    </tr>\n",
       "  </tbody>\n",
       "</table>\n",
       "</div>"
      ],
      "text/plain": [
       "    Издательство  Количество_книг\n",
       "0  Penguin Books               42"
      ]
     },
     "execution_count": 11,
     "metadata": {},
     "output_type": "execute_result"
    }
   ],
   "source": [
    "query = '''\n",
    "    WITH q as (\n",
    "    SELECT publisher AS Издательство, \n",
    "        COUNT(book_id) AS Количество_книг\n",
    "    FROM books as b\n",
    "    LEFT JOIN publishers as p ON b.publisher_id = p.publisher_id\n",
    "    WHERE num_pages > 50\n",
    "    GROUP BY publisher\n",
    "    ORDER BY 2 DESC\n",
    "    LIMIT 1\n",
    "    )\n",
    "    SELECT * from q\n",
    "    '''\n",
    "\n",
    "con=engine.connect()\n",
    "\n",
    "pd.io.sql.read_sql(sql=text(query), con = con)"
   ]
  },
  {
   "cell_type": "markdown",
   "id": "6c884f89",
   "metadata": {},
   "source": [
    "**Вывод:** Издательство, которое выпустило наибольшее число книг, не считая брошюр - Penguin Books"
   ]
  },
  {
   "cell_type": "markdown",
   "id": "b343f6f6",
   "metadata": {},
   "source": [
    "### Определите автора с самой высокой средней оценкой книг — учитывайте только книги с 50 и более оценками"
   ]
  },
  {
   "cell_type": "code",
   "execution_count": 12,
   "id": "aac4fabe",
   "metadata": {
    "scrolled": true
   },
   "outputs": [
    {
     "data": {
      "text/html": [
       "<div>\n",
       "<style scoped>\n",
       "    .dataframe tbody tr th:only-of-type {\n",
       "        vertical-align: middle;\n",
       "    }\n",
       "\n",
       "    .dataframe tbody tr th {\n",
       "        vertical-align: top;\n",
       "    }\n",
       "\n",
       "    .dataframe thead th {\n",
       "        text-align: right;\n",
       "    }\n",
       "</style>\n",
       "<table border=\"1\" class=\"dataframe\">\n",
       "  <thead>\n",
       "    <tr style=\"text-align: right;\">\n",
       "      <th></th>\n",
       "      <th>Автор</th>\n",
       "      <th>Рейтинг</th>\n",
       "    </tr>\n",
       "  </thead>\n",
       "  <tbody>\n",
       "    <tr>\n",
       "      <th>0</th>\n",
       "      <td>J.K. Rowling/Mary GrandPré</td>\n",
       "      <td>4.29</td>\n",
       "    </tr>\n",
       "  </tbody>\n",
       "</table>\n",
       "</div>"
      ],
      "text/plain": [
       "                        Автор  Рейтинг\n",
       "0  J.K. Rowling/Mary GrandPré     4.29"
      ]
     },
     "execution_count": 12,
     "metadata": {},
     "output_type": "execute_result"
    }
   ],
   "source": [
    "query = '''\n",
    "    WITH q AS (\n",
    "    SELECT author AS Автор,\n",
    "        ROUND(AVG(rating), 2) AS Рейтинг\n",
    "    FROM books as b\n",
    "    LEFT JOIN authors as a ON a.author_id = b.author_id\n",
    "    LEFT JOIN ratings as ra ON ra.book_id = b.book_id\n",
    "    GROUP BY 1\n",
    "    HAVING COUNT(rating_id) > 50\n",
    "    ORDER BY 2 DESC\n",
    "    LIMIT 1\n",
    "    )\n",
    "    SELECT * FROM q\n",
    "    '''\n",
    "\n",
    "con=engine.connect()\n",
    "\n",
    "pd.io.sql.read_sql(sql=text(query), con = con)"
   ]
  },
  {
   "cell_type": "markdown",
   "id": "0fd35cbb",
   "metadata": {},
   "source": [
    "**Вывод:** Автор с самой высокой средней оценкой книг - J.K. Rowling"
   ]
  },
  {
   "cell_type": "markdown",
   "id": "2594ece5",
   "metadata": {},
   "source": [
    "### Посчитайте среднее количество обзоров от пользователей, которые поставили больше 48 оценок"
   ]
  },
  {
   "cell_type": "code",
   "execution_count": 14,
   "id": "04bc959c",
   "metadata": {
    "scrolled": true
   },
   "outputs": [
    {
     "data": {
      "text/html": [
       "<div>\n",
       "<style scoped>\n",
       "    .dataframe tbody tr th:only-of-type {\n",
       "        vertical-align: middle;\n",
       "    }\n",
       "\n",
       "    .dataframe tbody tr th {\n",
       "        vertical-align: top;\n",
       "    }\n",
       "\n",
       "    .dataframe thead th {\n",
       "        text-align: right;\n",
       "    }\n",
       "</style>\n",
       "<table border=\"1\" class=\"dataframe\">\n",
       "  <thead>\n",
       "    <tr style=\"text-align: right;\">\n",
       "      <th></th>\n",
       "      <th>avg</th>\n",
       "    </tr>\n",
       "  </thead>\n",
       "  <tbody>\n",
       "    <tr>\n",
       "      <th>0</th>\n",
       "      <td>24.0</td>\n",
       "    </tr>\n",
       "  </tbody>\n",
       "</table>\n",
       "</div>"
      ],
      "text/plain": [
       "    avg\n",
       "0  24.0"
      ]
     },
     "execution_count": 14,
     "metadata": {},
     "output_type": "execute_result"
    }
   ],
   "source": [
    "query = '''\n",
    "    WITH q AS (\n",
    "    SELECT username, COUNT(rating_id)\n",
    "    FROM ratings\n",
    "    GROUP BY 1\n",
    "    HAVING COUNT(rating_id) > 48\n",
    "    ),\n",
    "    w AS (\n",
    "    SELECT q.username, COUNT(re.review_id)\n",
    "    FROM q\n",
    "    JOIN reviews as re ON re.username = q.username\n",
    "    GROUP BY 1\n",
    "    )\n",
    "    SELECT AVG(count) FROM w\n",
    "    '''\n",
    "\n",
    "con=engine.connect()\n",
    "\n",
    "pd.io.sql.read_sql(sql=text(query), con = con)"
   ]
  },
  {
   "cell_type": "markdown",
   "id": "a0d3d5f2",
   "metadata": {},
   "source": [
    "**Вывод:** Среднее количество обзоров от пользователей, которые поставили больше 48 оценок - 24 обзора"
   ]
  },
  {
   "cell_type": "markdown",
   "id": "e6440fe6",
   "metadata": {},
   "source": [
    "### Общий вывод"
   ]
  },
  {
   "cell_type": "markdown",
   "id": "5486a41b",
   "metadata": {},
   "source": [
    "\n",
    "\n",
    "\n",
    "**Мы нашли:**\n",
    "- Сколько книг из нашей библиотеки вышло в 21 веке\n",
    "- Самые популярные книги (с наибольшим количеством оценок)\n",
    "- Самое производительное издательство\n",
    "- Самого популярного автора\n",
    "- Самых активных пользователей\n",
    "\n",
    "**Рекомендация:**\n",
    "- Теперь мы знаем самые популярные и высокооцененные книги, а также самых популярных авторов. Можно сделать ставку на их продажу, потому что их популярность не зависит от платформы/сервиса."
   ]
  }
 ],
 "metadata": {
  "ExecuteTimeLog": [
   {
    "duration": 643,
    "start_time": "2023-05-23T10:57:49.651Z"
   },
   {
    "duration": 8874,
    "start_time": "2023-05-23T10:57:50.297Z"
   },
   {
    "duration": 127,
    "start_time": "2023-05-23T10:57:59.173Z"
   },
   {
    "duration": 64,
    "start_time": "2023-05-23T10:57:59.303Z"
   },
   {
    "duration": 15,
    "start_time": "2023-05-23T10:57:59.370Z"
   },
   {
    "duration": 16,
    "start_time": "2023-05-23T10:57:59.387Z"
   },
   {
    "duration": 34,
    "start_time": "2023-05-23T10:57:59.405Z"
   },
   {
    "duration": 16,
    "start_time": "2023-05-23T10:57:59.449Z"
   },
   {
    "duration": 12,
    "start_time": "2023-05-23T10:57:59.466Z"
   },
   {
    "duration": 28,
    "start_time": "2023-05-23T10:57:59.479Z"
   },
   {
    "duration": 13,
    "start_time": "2023-05-23T10:57:59.508Z"
   },
   {
    "duration": 29,
    "start_time": "2023-05-23T10:57:59.523Z"
   },
   {
    "duration": 45,
    "start_time": "2023-05-23T10:57:59.554Z"
   },
   {
    "duration": 123,
    "start_time": "2023-05-23T11:08:24.492Z"
   },
   {
    "duration": 139,
    "start_time": "2023-05-23T11:11:08.769Z"
   },
   {
    "duration": 560,
    "start_time": "2023-05-23T11:11:13.948Z"
   },
   {
    "duration": 9673,
    "start_time": "2023-05-23T11:11:14.510Z"
   },
   {
    "duration": 115,
    "start_time": "2023-05-23T11:11:24.185Z"
   },
   {
    "duration": 104,
    "start_time": "2023-05-23T11:11:24.303Z"
   },
   {
    "duration": 37,
    "start_time": "2023-05-23T11:11:24.410Z"
   },
   {
    "duration": 25,
    "start_time": "2023-05-23T11:11:24.452Z"
   },
   {
    "duration": 16,
    "start_time": "2023-05-23T11:11:24.479Z"
   },
   {
    "duration": 59,
    "start_time": "2023-05-23T11:11:24.497Z"
   },
   {
    "duration": 56,
    "start_time": "2023-05-23T11:11:24.559Z"
   },
   {
    "duration": 42,
    "start_time": "2023-05-23T11:11:24.616Z"
   },
   {
    "duration": 105,
    "start_time": "2023-05-23T11:11:24.660Z"
   },
   {
    "duration": 0,
    "start_time": "2023-05-23T11:11:24.768Z"
   },
   {
    "duration": 0,
    "start_time": "2023-05-23T11:11:24.770Z"
   },
   {
    "duration": 16,
    "start_time": "2023-05-23T11:14:26.102Z"
   },
   {
    "duration": 99,
    "start_time": "2023-05-23T11:15:09.978Z"
   },
   {
    "duration": 14,
    "start_time": "2023-05-23T11:15:13.152Z"
   },
   {
    "duration": 546,
    "start_time": "2023-05-23T11:15:35.648Z"
   },
   {
    "duration": 9477,
    "start_time": "2023-05-23T11:15:36.196Z"
   },
   {
    "duration": 97,
    "start_time": "2023-05-23T11:15:45.674Z"
   },
   {
    "duration": 83,
    "start_time": "2023-05-23T11:15:45.773Z"
   },
   {
    "duration": 12,
    "start_time": "2023-05-23T11:15:45.858Z"
   },
   {
    "duration": 21,
    "start_time": "2023-05-23T11:15:45.872Z"
   },
   {
    "duration": 16,
    "start_time": "2023-05-23T11:15:45.895Z"
   },
   {
    "duration": 13,
    "start_time": "2023-05-23T11:15:45.913Z"
   },
   {
    "duration": 19,
    "start_time": "2023-05-23T11:15:45.927Z"
   },
   {
    "duration": 30,
    "start_time": "2023-05-23T11:15:45.951Z"
   },
   {
    "duration": 13,
    "start_time": "2023-05-23T11:15:45.982Z"
   },
   {
    "duration": 16,
    "start_time": "2023-05-23T11:15:45.997Z"
   },
   {
    "duration": 39,
    "start_time": "2023-05-23T11:15:46.015Z"
   },
   {
    "duration": 15,
    "start_time": "2023-05-23T11:18:22.873Z"
   },
   {
    "duration": 37,
    "start_time": "2023-05-23T11:18:34.525Z"
   },
   {
    "duration": 16,
    "start_time": "2023-05-23T11:19:05.002Z"
   },
   {
    "duration": 21,
    "start_time": "2023-05-23T11:25:08.083Z"
   },
   {
    "duration": 145,
    "start_time": "2023-05-23T11:27:33.023Z"
   },
   {
    "duration": 20,
    "start_time": "2023-05-23T11:28:24.043Z"
   },
   {
    "duration": 102,
    "start_time": "2023-05-23T11:28:28.663Z"
   },
   {
    "duration": 14,
    "start_time": "2023-05-23T11:28:37.892Z"
   },
   {
    "duration": 23,
    "start_time": "2023-05-23T11:31:03.953Z"
   },
   {
    "duration": 32,
    "start_time": "2023-05-23T11:31:31.482Z"
   },
   {
    "duration": 75,
    "start_time": "2023-05-23T11:31:39.193Z"
   },
   {
    "duration": 31,
    "start_time": "2023-05-23T11:31:44.851Z"
   },
   {
    "duration": 17,
    "start_time": "2023-05-23T11:31:47.971Z"
   },
   {
    "duration": 31,
    "start_time": "2023-05-23T11:32:02.016Z"
   },
   {
    "duration": 32,
    "start_time": "2023-05-23T11:32:16.080Z"
   },
   {
    "duration": 88,
    "start_time": "2023-05-23T11:32:25.448Z"
   },
   {
    "duration": 19,
    "start_time": "2023-05-23T11:32:48.448Z"
   },
   {
    "duration": 18,
    "start_time": "2023-05-23T11:33:44.249Z"
   },
   {
    "duration": 33,
    "start_time": "2023-05-23T11:35:52.684Z"
   },
   {
    "duration": 18,
    "start_time": "2023-05-23T11:36:01.852Z"
   },
   {
    "duration": 73,
    "start_time": "2023-05-23T11:36:57.306Z"
   },
   {
    "duration": 22,
    "start_time": "2023-05-23T11:37:00.174Z"
   },
   {
    "duration": 56,
    "start_time": "2023-05-23T11:37:05.689Z"
   },
   {
    "duration": 14,
    "start_time": "2023-05-23T11:37:11.851Z"
   },
   {
    "duration": 24,
    "start_time": "2023-05-23T11:37:48.306Z"
   },
   {
    "duration": 16,
    "start_time": "2023-05-23T11:37:53.986Z"
   },
   {
    "duration": 14,
    "start_time": "2023-05-23T11:38:13.754Z"
   },
   {
    "duration": 15,
    "start_time": "2023-05-23T11:38:21.200Z"
   },
   {
    "duration": 16,
    "start_time": "2023-05-23T11:38:36.415Z"
   },
   {
    "duration": 34,
    "start_time": "2023-05-23T11:38:50.060Z"
   },
   {
    "duration": 15,
    "start_time": "2023-05-23T11:38:57.746Z"
   },
   {
    "duration": 16,
    "start_time": "2023-05-23T11:39:35.540Z"
   },
   {
    "duration": 18,
    "start_time": "2023-05-23T11:39:54.975Z"
   },
   {
    "duration": 31,
    "start_time": "2023-05-23T11:39:59.324Z"
   },
   {
    "duration": 76,
    "start_time": "2023-05-23T11:41:57.788Z"
   },
   {
    "duration": 72,
    "start_time": "2023-05-23T11:43:39.246Z"
   },
   {
    "duration": 577,
    "start_time": "2023-05-23T11:46:37.545Z"
   },
   {
    "duration": 8845,
    "start_time": "2023-05-23T11:46:38.124Z"
   },
   {
    "duration": 111,
    "start_time": "2023-05-23T11:46:46.971Z"
   },
   {
    "duration": 77,
    "start_time": "2023-05-23T11:46:47.084Z"
   },
   {
    "duration": 11,
    "start_time": "2023-05-23T11:46:47.163Z"
   },
   {
    "duration": 11,
    "start_time": "2023-05-23T11:46:47.175Z"
   },
   {
    "duration": 15,
    "start_time": "2023-05-23T11:46:47.189Z"
   },
   {
    "duration": 35,
    "start_time": "2023-05-23T11:46:47.206Z"
   },
   {
    "duration": 12,
    "start_time": "2023-05-23T11:46:47.242Z"
   },
   {
    "duration": 36,
    "start_time": "2023-05-23T11:46:47.256Z"
   },
   {
    "duration": 15,
    "start_time": "2023-05-23T11:46:47.294Z"
   },
   {
    "duration": 33,
    "start_time": "2023-05-23T11:46:47.310Z"
   },
   {
    "duration": 40,
    "start_time": "2023-05-23T11:46:47.345Z"
   },
   {
    "duration": 13,
    "start_time": "2023-05-23T11:46:47.388Z"
   },
   {
    "duration": 37,
    "start_time": "2023-05-23T11:47:47.307Z"
   },
   {
    "duration": 34,
    "start_time": "2023-05-23T11:47:52.204Z"
   },
   {
    "duration": 28,
    "start_time": "2023-05-23T11:48:07.990Z"
   },
   {
    "duration": 37,
    "start_time": "2023-05-23T11:48:18.463Z"
   },
   {
    "duration": 51,
    "start_time": "2023-05-23T11:48:24.611Z"
   },
   {
    "duration": 34,
    "start_time": "2023-05-23T11:48:32.453Z"
   },
   {
    "duration": 643,
    "start_time": "2023-05-23T12:08:00.260Z"
   },
   {
    "duration": 12081,
    "start_time": "2023-05-23T12:08:00.905Z"
   },
   {
    "duration": 75,
    "start_time": "2023-05-23T12:08:12.988Z"
   },
   {
    "duration": 75,
    "start_time": "2023-05-23T12:08:13.066Z"
   },
   {
    "duration": 16,
    "start_time": "2023-05-23T12:08:13.143Z"
   },
   {
    "duration": 13,
    "start_time": "2023-05-23T12:08:13.162Z"
   },
   {
    "duration": 11,
    "start_time": "2023-05-23T12:08:13.177Z"
   },
   {
    "duration": 17,
    "start_time": "2023-05-23T12:08:13.190Z"
   },
   {
    "duration": 24,
    "start_time": "2023-05-23T12:08:13.234Z"
   },
   {
    "duration": 34,
    "start_time": "2023-05-23T12:08:13.261Z"
   },
   {
    "duration": 15,
    "start_time": "2023-05-23T12:08:13.296Z"
   },
   {
    "duration": 20,
    "start_time": "2023-05-23T12:08:13.312Z"
   },
   {
    "duration": 48,
    "start_time": "2023-05-23T12:08:13.334Z"
   },
   {
    "duration": 16,
    "start_time": "2023-05-23T12:08:13.383Z"
   },
   {
    "duration": 17,
    "start_time": "2023-05-23T12:08:52.377Z"
   },
   {
    "duration": 575,
    "start_time": "2023-05-23T12:08:57.458Z"
   },
   {
    "duration": 10985,
    "start_time": "2023-05-23T12:08:58.043Z"
   },
   {
    "duration": 152,
    "start_time": "2023-05-23T12:09:09.039Z"
   },
   {
    "duration": 82,
    "start_time": "2023-05-23T12:09:09.193Z"
   },
   {
    "duration": 11,
    "start_time": "2023-05-23T12:09:09.279Z"
   },
   {
    "duration": 10,
    "start_time": "2023-05-23T12:09:09.292Z"
   },
   {
    "duration": 12,
    "start_time": "2023-05-23T12:09:09.304Z"
   },
   {
    "duration": 16,
    "start_time": "2023-05-23T12:09:09.318Z"
   },
   {
    "duration": 34,
    "start_time": "2023-05-23T12:09:09.336Z"
   },
   {
    "duration": 35,
    "start_time": "2023-05-23T12:09:09.373Z"
   },
   {
    "duration": 15,
    "start_time": "2023-05-23T12:09:09.410Z"
   },
   {
    "duration": 37,
    "start_time": "2023-05-23T12:09:09.428Z"
   },
   {
    "duration": 38,
    "start_time": "2023-05-23T12:09:09.469Z"
   },
   {
    "duration": 17,
    "start_time": "2023-05-23T12:09:09.509Z"
   }
  ],
  "kernelspec": {
   "display_name": "Python 3 (ipykernel)",
   "language": "python",
   "name": "python3"
  },
  "language_info": {
   "codemirror_mode": {
    "name": "ipython",
    "version": 3
   },
   "file_extension": ".py",
   "mimetype": "text/x-python",
   "name": "python",
   "nbconvert_exporter": "python",
   "pygments_lexer": "ipython3",
   "version": "3.9.13"
  },
  "toc": {
   "base_numbering": 1,
   "nav_menu": {},
   "number_sections": true,
   "sideBar": true,
   "skip_h1_title": true,
   "title_cell": "Table of Contents",
   "title_sidebar": "Contents",
   "toc_cell": true,
   "toc_position": {
    "height": "calc(100% - 180px)",
    "left": "10px",
    "top": "150px",
    "width": "316px"
   },
   "toc_section_display": true,
   "toc_window_display": true
  }
 },
 "nbformat": 4,
 "nbformat_minor": 5
}
